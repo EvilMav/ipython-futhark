{
 "cells": [
  {
   "cell_type": "markdown",
   "metadata": {},
   "source": [
    "# Embed Futhark in iPython Notebook\n",
    "\n",
    "💥💻💥 A data-parallel functional programming language http://futhark-lang.org / http://github.com/hiperfit/futhark\n",
    "\n",
    "### Load extension"
   ]
  },
  {
   "cell_type": "code",
   "execution_count": 1,
   "metadata": {
    "collapsed": true
   },
   "outputs": [],
   "source": [
    "%load_ext futhark"
   ]
  },
  {
   "cell_type": "markdown",
   "metadata": {},
   "source": [
    "### Write futhark code\n",
    "\n",
    "* `%%futhark` magic cell\n",
    "* Add the `gpu` option to compile and run with pyopencl"
   ]
  },
  {
   "cell_type": "code",
   "execution_count": 2,
   "metadata": {},
   "outputs": [
    {
     "name": "stderr",
     "output_type": "stream",
     "text": [
      "Warning: Device limits tile size to 22 (setting was 32)\n"
     ]
    }
   ],
   "source": [
    "%%futhark gpu\n",
    "\n",
    "let conv1d(kernel: [#k]f32)(M: [#m]f32): []f32 =\n",
    "    map (\\i -> reduce (+) 0f32 (map (*) kernel M[i:i+k]))\n",
    "        (iota (m-k+1))\n",
    "\n",
    "entry f(x: f32): f32 = 6.28f32*x/360f32\n",
    "    \n",
    "let main(): []f32 = conv1d [1.5f32, 0f32, 1f32] (map f32 (iota 100))"
   ]
  },
  {
   "cell_type": "markdown",
   "metadata": {},
   "source": [
    "### Use it\n",
    "\n",
    "* Entry points and `main` are available in the Notebook namespace"
   ]
  },
  {
   "cell_type": "code",
   "execution_count": 3,
   "metadata": {},
   "outputs": [
    {
     "name": "stdout",
     "output_type": "stream",
     "text": [
      "0.209333\n",
      "[   2.     4.5    7.     9.5   12.    14.5   17.    19.5   22.    24.5\n",
      "   27.    29.5   32.    34.5   37.    39.5   42.    44.5   47.    49.5\n",
      "   52.    54.5   57.    59.5   62.    64.5   67.    69.5   72.    74.5\n",
      "   77.    79.5   82.    84.5   87.    89.5   92.    94.5   97.    99.5\n",
      "  102.   104.5  107.   109.5  112.   114.5  117.   119.5  122.   124.5\n",
      "  127.   129.5  132.   134.5  137.   139.5  142.   144.5  147.   149.5\n",
      "  152.   154.5  157.   159.5  162.   164.5  167.   169.5  172.   174.5\n",
      "  177.   179.5  182.   184.5  187.   189.5  192.   194.5  197.   199.5\n",
      "  202.   204.5  207.   209.5  212.   214.5  217.   219.5  222.   224.5\n",
      "  227.   229.5  232.   234.5  237.   239.5  242.   244.5]\n"
     ]
    }
   ],
   "source": [
    "print(f(12))\n",
    "print(main())"
   ]
  },
  {
   "cell_type": "markdown",
   "metadata": {},
   "source": [
    "### Errors handling\n",
    "\n",
    "* Show errors from Futhark compiler"
   ]
  },
  {
   "cell_type": "code",
   "execution_count": 4,
   "metadata": {},
   "outputs": [
    {
     "name": "stderr",
     "output_type": "stream",
     "text": [
      "\u001b[1mIn: main(): f32 =\u001b[0m\n",
      "Declaration of function main at tmpElpeLL.fut:2:7-2:7 declares return type f32, but body has type i32\n",
      "If you find this error message confusing, uninformative, or wrong, please open an issue at https://github.com/HIPERFIT/futhark/issues.\n"
     ]
    }
   ],
   "source": [
    "%%futhark\n",
    "\n",
    "entry main(): f32 =\n",
    "    42"
   ]
  },
  {
   "cell_type": "markdown",
   "metadata": {},
   "source": [
    "### Inspect internalization\n",
    "\n",
    "View how Futhark's compiler internalized a program using the `inspect` option. Defaults to cpu compilation pipeline, use the `%%futhark gpu inspect` magic to view gpu-optimized output.\n",
    "\n",
    "Variable names in the inspect output are colorized such that it is easier to spot several occurences of the same name"
   ]
  },
  {
   "cell_type": "code",
   "execution_count": 5,
   "metadata": {
    "scrolled": false
   },
   "outputs": [
    {
     "name": "stdout",
     "output_type": "stream",
     "text": [
      "entry [f32] f(f32 \u001b[1;38;5;0mx_475\u001b[0m) =\n",
      "  let {f32 \u001b[1;38;5;7mx_476\u001b[0m} = fmul32(6.28f32, \u001b[1;38;5;0mx_475\u001b[0m)\n",
      "  let {f32 \u001b[1;38;5;14mres_477\u001b[0m} = fdiv32(\u001b[1;38;5;7mx_476\u001b[0m, 360.0f32)\n",
      "  in {\u001b[1;38;5;14mres_477\u001b[0m}\n",
      "\n",
      "entry [[?1]f32@2] main() =\n",
      "  let {mem(12i64) \u001b[1;38;5;21mmem_524\u001b[0m} =\n",
      "    alloc(12i64)\n",
      "  -- \u001b[1;38;5;28marg_478\u001b[0m : [3i32]f32@\u001b[1;38;5;21mmem_524\u001b[0m->Direct(3i32)\n",
      "  let {[3i32]f32 \u001b[1;38;5;28marg_478\u001b[0m} = [1.5f32, 0.0f32, 1.0f32]\n",
      "  let {mem(400i64) \u001b[1;38;5;35mmem_527\u001b[0m} =\n",
      "    alloc(400i64)\n",
      "  -- \u001b[1;38;5;42mresult_505\u001b[0m : [100i32]f32@\u001b[1;38;5;35mmem_527\u001b[0m->Direct(100i32)\n",
      "  let {[100i32]f32 \u001b[1;38;5;42mresult_505\u001b[0m} = scratch(f32, 100i32)\n",
      "  -- \u001b[1;38;5;49marg_480\u001b[0m : [100i32]f32@\u001b[1;38;5;35mmem_527\u001b[0m->Direct(100i32)\n",
      "  let {[100i32]f32 \u001b[1;38;5;49marg_480\u001b[0m} =\n",
      "    -- Consumes \u001b[1;38;5;42mresult_505\u001b[0m\n",
      "    -- \u001b[1;38;5;56mmap_outarr_506\u001b[0m : *[100i32]f32@\u001b[1;38;5;35mmem_527\u001b[0m->Direct(100i32)\n",
      "    loop {*[100i32]f32 \u001b[1;38;5;56mmap_outarr_506\u001b[0m} = {\u001b[1;38;5;42mresult_505\u001b[0m}\n",
      "    for \u001b[1;38;5;63mi_504\u001b[0m:i32 < 100i32 do {\n",
      "      let {f32 \u001b[1;38;5;70mres_482\u001b[0m} = sitofp i32 \u001b[1;38;5;63mi_504\u001b[0m to f32\n",
      "      -- \u001b[1;38;5;77mlw_dest_507\u001b[0m : [100i32]f32@\u001b[1;38;5;35mmem_527\u001b[0m->Direct(100i32)\n",
      "      let {([100i32]f32 \u001b[1;38;5;77mlw_dest_507\u001b[0m <- \u001b[1;38;5;56mmap_outarr_506\u001b[0m)[\u001b[1;38;5;63mi_504\u001b[0m]} =\n",
      "        -- Consumes \u001b[1;38;5;56mmap_outarr_506\u001b[0m\n",
      "        \u001b[1;38;5;70mres_482\u001b[0m\n",
      "      in {\u001b[1;38;5;77mlw_dest_507\u001b[0m}\n",
      "    }\n",
      "  let {mem(392i64) \u001b[1;38;5;84mmem_530\u001b[0m} =\n",
      "    alloc(392i64)\n",
      "  -- \u001b[1;38;5;91mresult_515\u001b[0m : [98i32]f32@\u001b[1;38;5;84mmem_530\u001b[0m->Direct(98i32)\n",
      "  let {[98i32]f32 \u001b[1;38;5;91mresult_515\u001b[0m} = scratch(f32, 98i32)\n",
      "  -- \u001b[1;38;5;98mres_484\u001b[0m : [98i32]f32@\u001b[1;38;5;84mmem_530\u001b[0m->Direct(98i32)\n",
      "  let {[98i32]f32 \u001b[1;38;5;98mres_484\u001b[0m} =\n",
      "    -- Consumes \u001b[1;38;5;91mresult_515\u001b[0m\n",
      "    -- \u001b[1;38;5;105mmap_outarr_516\u001b[0m : *[98i32]f32@\u001b[1;38;5;84mmem_530\u001b[0m->Direct(98i32)\n",
      "    loop {*[98i32]f32 \u001b[1;38;5;105mmap_outarr_516\u001b[0m} = {\u001b[1;38;5;91mresult_515\u001b[0m}\n",
      "    for \u001b[1;38;5;112mi_514\u001b[0m:i32 < 98i32 do {\n",
      "      let {f32 \u001b[1;38;5;119mres_491\u001b[0m} =\n",
      "        loop {f32 \u001b[1;38;5;126macc_511\u001b[0m} = {0.0f32}\n",
      "        for \u001b[1;38;5;133mi_510\u001b[0m:i32 < 3i32 do {\n",
      "          let {f32 \u001b[1;38;5;140mbinop_param_x_496\u001b[0m} = \u001b[1;38;5;28marg_478\u001b[0m[\u001b[1;38;5;133mi_510\u001b[0m]\n",
      "          let {i32 \u001b[1;38;5;147mj_p_i_t_s_521\u001b[0m} = add32(\u001b[1;38;5;112mi_514\u001b[0m, \u001b[1;38;5;133mi_510\u001b[0m)\n",
      "          let {f32 \u001b[1;38;5;154mbinop_param_y_497\u001b[0m} = \u001b[1;38;5;49marg_480\u001b[0m[\u001b[1;38;5;147mj_p_i_t_s_521\u001b[0m]\n",
      "          let {f32 \u001b[1;38;5;161mres_498\u001b[0m} = fmul32(\u001b[1;38;5;140mbinop_param_x_496\u001b[0m, \u001b[1;38;5;154mbinop_param_y_497\u001b[0m)\n",
      "          let {f32 \u001b[1;38;5;168mres_499\u001b[0m} = fadd32(\u001b[1;38;5;126macc_511\u001b[0m, \u001b[1;38;5;161mres_498\u001b[0m)\n",
      "          in {\u001b[1;38;5;168mres_499\u001b[0m}\n",
      "        }\n",
      "      -- \u001b[1;38;5;175mlw_dest_517\u001b[0m : [98i32]f32@\u001b[1;38;5;84mmem_530\u001b[0m->Direct(98i32)\n",
      "      let {([98i32]f32 \u001b[1;38;5;175mlw_dest_517\u001b[0m <- \u001b[1;38;5;105mmap_outarr_516\u001b[0m)[\u001b[1;38;5;112mi_514\u001b[0m]} =\n",
      "        -- Consumes \u001b[1;38;5;105mmap_outarr_516\u001b[0m\n",
      "        \u001b[1;38;5;119mres_491\u001b[0m\n",
      "      in {\u001b[1;38;5;175mlw_dest_517\u001b[0m}\n",
      "    }\n",
      "  in {\u001b[1;38;5;98mres_484\u001b[0m}\n"
     ]
    }
   ],
   "source": [
    "%%futhark inspect\n",
    "\n",
    "let conv1d(kernel: [#k]f32)(M: [#m]f32): []f32 =\n",
    "    map (\\i -> reduce (+) 0f32 (map (*) kernel M[i:i+k]))\n",
    "        (iota (m-k+1))\n",
    "\n",
    "entry f(x: f32): f32 = 6.28f32*x/360f32\n",
    "    \n",
    "let main(): []f32 = conv1d [1.5f32, 0f32, 1f32] (map f32 (iota 100))"
   ]
  }
 ],
 "metadata": {
  "kernelspec": {
   "display_name": "Python 2",
   "language": "python",
   "name": "python2"
  },
  "language_info": {
   "codemirror_mode": {
    "name": "ipython",
    "version": 2
   },
   "file_extension": ".py",
   "mimetype": "text/x-python",
   "name": "python",
   "nbconvert_exporter": "python",
   "pygments_lexer": "ipython2",
   "version": "2.7.12"
  }
 },
 "nbformat": 4,
 "nbformat_minor": 2
}
